{
 "cells": [
  {
   "cell_type": "markdown",
   "metadata": {},
   "source": [
    "##### Newton's method for finding root"
   ]
  },
  {
   "cell_type": "code",
   "execution_count": 1,
   "metadata": {
    "collapsed": true
   },
   "outputs": [],
   "source": [
    "## The root checking function\n",
    "def dx(f, x):\n",
    "    return abs(0 - f(x))"
   ]
  },
  {
   "cell_type": "code",
   "execution_count": 2,
   "metadata": {
    "collapsed": true
   },
   "outputs": [],
   "source": [
    "def newtons_method(f, df, x0, e):\n",
    "    delta = dx(f, x0)\n",
    "    while delta > e:\n",
    "        x0 = x0 - f(x0)/df(x0)\n",
    "        delta = dx(f, x0)\n",
    "    print 'root is at: ', x0\n",
    "    print 'f(x) at root is: ', f(x0)"
   ]
  },
  {
   "cell_type": "code",
   "execution_count": 4,
   "metadata": {
    "collapsed": true
   },
   "outputs": [],
   "source": [
    "def f(x):\n",
    "    return (x-3.)**3\n",
    "def df(x):\n",
    "    return 3*(x - 3.)**2"
   ]
  },
  {
   "cell_type": "code",
   "execution_count": 7,
   "metadata": {},
   "outputs": [
    {
     "name": "stdout",
     "output_type": "stream",
     "text": [
      "root is at:  3.00009065252\n",
      "f(x) at root is:  7.44971387292e-13\n"
     ]
    }
   ],
   "source": [
    "newtons_method(f , df, 300, 1.E-12)"
   ]
  },
  {
   "cell_type": "markdown",
   "metadata": {},
   "source": [
    "###### Newton's method for optimization on a multiple dimension function"
   ]
  },
  {
   "cell_type": "code",
   "execution_count": 9,
   "metadata": {
    "collapsed": true
   },
   "outputs": [],
   "source": [
    "import numpy as np\n",
    "def Newton(X, Y, tol, Loss, Grad, Hessian):\n",
    "    '''\n",
    "    Performs Newton;s method to update the weight matrix\n",
    "    Input: X, Y, tol (tolerance)\n",
    "    Output: Weight Matrix W, error\n",
    "    Hessian: The second order derivative tensor\n",
    "    '''\n",
    "    W = np.array([0., 0., 0.])\n",
    "    error = 10.\n",
    "    steps = 0\n",
    "    while(error > tol):\n",
    "        l1 = Loss(W)\n",
    "        steps+= 1\n",
    "        for i in range(N):\n",
    "            H = Hessian(X, N, W)\n",
    "            G = Grad(X, Y, W)\n",
    "            W = W - np.dot(np.linalg.pinv(H),G)\n",
    "        l2 = Loss(W)\n",
    "        error = np.abs(l2 - l1)\n",
    "    return W, error, steps"
   ]
  },
  {
   "cell_type": "markdown",
   "metadata": {},
   "source": [
    "###### Test np.linalg.pinv"
   ]
  },
  {
   "cell_type": "code",
   "execution_count": 10,
   "metadata": {},
   "outputs": [
    {
     "name": "stdout",
     "output_type": "stream",
     "text": [
      "[[-1.15300136 -0.52510161  0.11469058 -1.4814701   0.05768855  0.63889792\n",
      "   1.29242631  0.92188238  0.11406463]\n",
      " [-0.90756935  0.13956484 -0.3582999   0.57952216  0.88615998  0.15439668\n",
      "   0.56284273 -0.01064745  0.11150418]\n",
      " [ 0.08124942  2.04820284 -0.12588665  1.62235938 -0.6363234  -1.28567418\n",
      "  -0.9663953   1.3787376   1.16312523]\n",
      " [ 0.25340892  1.39828362 -1.57732269 -0.68136063  1.95816531  0.01475923\n",
      "   0.79952678 -2.40458039 -0.96104649]\n",
      " [-0.79106481 -0.04985016 -1.06064875  1.08312693  0.50551811 -0.20938294\n",
      "  -1.03488474 -0.86449651 -0.25683349]\n",
      " [-0.56810328 -1.77437919  1.84238372 -0.14964995 -0.54335706 -0.00752728\n",
      "  -0.98848538  0.39600507 -0.27412866]]\n"
     ]
    }
   ],
   "source": [
    "A = np.random.randn(6, 9)\n",
    "print A"
   ]
  },
  {
   "cell_type": "code",
   "execution_count": 11,
   "metadata": {},
   "outputs": [
    {
     "name": "stdout",
     "output_type": "stream",
     "text": [
      "[[-0.42653699 -0.04021561 -0.19972366 -0.13150572 -0.32491561 -0.2520999 ]\n",
      " [ 0.12390681 -0.10034281  0.32319942  0.27546465 -0.12846825  0.10028352]\n",
      " [-0.19503672  0.35221555  0.14484733  0.21830161 -0.490842    0.49705429]\n",
      " [-0.47451372  0.62834716 -0.14801465 -0.27076005 -0.09328037 -0.15838504]\n",
      " [-0.11648576  0.49174229  0.05099741  0.2123148  -0.21121757  0.23056738]\n",
      " [-0.0950788   0.14196406 -0.26089298 -0.22953401  0.00504579 -0.26160113]\n",
      " [-0.13899738  0.47913598 -0.16851254 -0.11192967 -0.36857733 -0.21912598]\n",
      " [ 0.15330143  0.04354968  0.08984073 -0.15161236 -0.03605505 -0.08448468]\n",
      " [-0.01367261  0.11360951  0.01971216 -0.12544743 -0.04756522 -0.12920927]]\n"
     ]
    }
   ],
   "source": [
    "B = np.linalg.pinv(A)\n",
    "print B"
   ]
  },
  {
   "cell_type": "code",
   "execution_count": 12,
   "metadata": {},
   "outputs": [
    {
     "name": "stdout",
     "output_type": "stream",
     "text": [
      "[[  1.00000000e+00   1.23165367e-16  -1.69135539e-17   1.07552856e-16\n",
      "   -6.76542156e-17  -3.62557206e-16]\n",
      " [  2.29200339e-16   1.00000000e+00   9.62771529e-17  -1.70002901e-16\n",
      "   -1.37043155e-16   3.52148866e-16]\n",
      " [ -4.23272528e-16  -1.94289029e-16   1.00000000e+00  -4.99600361e-16\n",
      "    4.16333634e-16  -2.49800181e-16]\n",
      " [ -1.21430643e-17  -4.44089210e-16   2.22044605e-16   1.00000000e+00\n",
      "   -5.89805982e-16   5.55111512e-16]\n",
      " [ -4.79217360e-16   3.57353036e-16  -3.90312782e-17  -2.08166817e-16\n",
      "    1.00000000e+00   0.00000000e+00]\n",
      " [ -7.56773116e-16   5.30825384e-16  -1.01307851e-15  -6.17561557e-16\n",
      "    4.16333634e-16   1.00000000e+00]]\n"
     ]
    }
   ],
   "source": [
    "print np.dot(A, B)"
   ]
  },
  {
   "cell_type": "code",
   "execution_count": 13,
   "metadata": {},
   "outputs": [
    {
     "name": "stdout",
     "output_type": "stream",
     "text": [
      "[[  8.78992120e-01   8.89236252e-02   7.82155550e-02   5.99771055e-02\n",
      "   -2.17935324e-01   4.60452947e-02   9.94142508e-02  -1.70883619e-01\n",
      "   -6.50049627e-03]\n",
      " [  8.89236252e-02   7.96550864e-01  -1.03998957e-01  -5.92151092e-02\n",
      "    1.32541394e-01  -3.21648104e-01   4.53871973e-02   4.92993440e-02\n",
      "    1.19636177e-01]\n",
      " [  7.82155550e-02  -1.03998957e-01   9.25241586e-01  -2.67182576e-02\n",
      "    1.17961361e-01  -1.54199673e-01  -2.63641952e-03   1.12398787e-01\n",
      "   -3.44878617e-02]\n",
      " [  5.99771055e-02  -5.92151092e-02  -2.67182576e-02   9.34139110e-01\n",
      "    1.32339064e-01   8.74816141e-04  -7.99569041e-02   2.07740837e-02\n",
      "    1.71366926e-01]\n",
      " [ -2.17935324e-01   1.32541394e-01   1.17961361e-01   1.32339064e-01\n",
      "    5.80284352e-01  -1.84417626e-02   2.37365383e-01  -2.78935227e-01\n",
      "   -1.12140988e-01]\n",
      " [  4.60452947e-02  -3.21648104e-01  -1.54199673e-01   8.74816141e-04\n",
      "   -1.84417626e-02   2.94121394e-01   2.78995331e-01  -4.89044117e-03\n",
      "   -7.45745243e-03]\n",
      " [  9.94142508e-02   4.53871973e-02  -2.63641952e-03  -7.99569041e-02\n",
      "    2.37365383e-01   2.78995331e-01   7.61431182e-01   1.35427322e-01\n",
      "    1.03871120e-01]\n",
      " [ -1.70883619e-01   4.92993440e-02   1.12398787e-01   2.07740837e-02\n",
      "   -2.78935227e-01  -4.89044117e-03   1.35427322e-01   6.27006184e-01\n",
      "    3.04964598e-01]\n",
      " [ -6.50049627e-03   1.19636177e-01  -3.44878617e-02   1.71366926e-01\n",
      "   -1.12140988e-01  -7.45745243e-03   1.03871120e-01   3.04964598e-01\n",
      "    2.02233208e-01]]\n"
     ]
    }
   ],
   "source": [
    "print np.dot(B, A)"
   ]
  },
  {
   "cell_type": "markdown",
   "metadata": {},
   "source": [
    "$A \\cdot B = I$ but $B \\cdot A \\neq I$"
   ]
  },
  {
   "cell_type": "code",
   "execution_count": null,
   "metadata": {
    "collapsed": true
   },
   "outputs": [],
   "source": []
  }
 ],
 "metadata": {
  "kernelspec": {
   "display_name": "Python 2",
   "language": "python",
   "name": "python2"
  },
  "language_info": {
   "codemirror_mode": {
    "name": "ipython",
    "version": 2
   },
   "file_extension": ".py",
   "mimetype": "text/x-python",
   "name": "python",
   "nbconvert_exporter": "python",
   "pygments_lexer": "ipython2",
   "version": "2.7.13"
  }
 },
 "nbformat": 4,
 "nbformat_minor": 2
}
