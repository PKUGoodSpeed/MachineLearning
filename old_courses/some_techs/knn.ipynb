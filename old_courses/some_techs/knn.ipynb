{
 "cells": [
  {
   "cell_type": "code",
   "execution_count": 13,
   "metadata": {},
   "outputs": [
    {
     "data": {
      "text/html": [
       "<div>\n",
       "<table border=\"1\" class=\"dataframe\">\n",
       "  <thead>\n",
       "    <tr style=\"text-align: right;\">\n",
       "      <th></th>\n",
       "      <th>user_id</th>\n",
       "      <th>movie_id</th>\n",
       "      <th>rating</th>\n",
       "    </tr>\n",
       "  </thead>\n",
       "  <tbody>\n",
       "    <tr>\n",
       "      <th>0</th>\n",
       "      <td>0</td>\n",
       "      <td>50</td>\n",
       "      <td>5</td>\n",
       "    </tr>\n",
       "    <tr>\n",
       "      <th>1</th>\n",
       "      <td>0</td>\n",
       "      <td>172</td>\n",
       "      <td>5</td>\n",
       "    </tr>\n",
       "    <tr>\n",
       "      <th>2</th>\n",
       "      <td>0</td>\n",
       "      <td>133</td>\n",
       "      <td>1</td>\n",
       "    </tr>\n",
       "  </tbody>\n",
       "</table>\n",
       "</div>"
      ],
      "text/plain": [
       "   user_id  movie_id  rating\n",
       "0        0        50       5\n",
       "1        0       172       5\n",
       "2        0       133       1"
      ]
     },
     "execution_count": 13,
     "metadata": {},
     "output_type": "execute_result"
    }
   ],
   "source": [
    "import pandas as pd\n",
    "import numpy as np\n",
    "r_cols = ['user_id', 'movie_id', 'rating']\n",
    "ratings = pd.read_csv('../data/data/u.data', sep='\\t', names=r_cols, usecols=range(3))\n",
    "ratings.head(3)"
   ]
  },
  {
   "cell_type": "code",
   "execution_count": 14,
   "metadata": {},
   "outputs": [
    {
     "data": {
      "text/html": [
       "<div>\n",
       "<table border=\"1\" class=\"dataframe\">\n",
       "  <thead>\n",
       "    <tr>\n",
       "      <th></th>\n",
       "      <th colspan=\"2\" halign=\"left\">rating</th>\n",
       "    </tr>\n",
       "    <tr>\n",
       "      <th></th>\n",
       "      <th>size</th>\n",
       "      <th>mean</th>\n",
       "    </tr>\n",
       "    <tr>\n",
       "      <th>movie_id</th>\n",
       "      <th></th>\n",
       "      <th></th>\n",
       "    </tr>\n",
       "  </thead>\n",
       "  <tbody>\n",
       "    <tr>\n",
       "      <th>1</th>\n",
       "      <td>452</td>\n",
       "      <td>3.878319</td>\n",
       "    </tr>\n",
       "    <tr>\n",
       "      <th>2</th>\n",
       "      <td>131</td>\n",
       "      <td>3.206107</td>\n",
       "    </tr>\n",
       "    <tr>\n",
       "      <th>3</th>\n",
       "      <td>90</td>\n",
       "      <td>3.033333</td>\n",
       "    </tr>\n",
       "  </tbody>\n",
       "</table>\n",
       "</div>"
      ],
      "text/plain": [
       "         rating          \n",
       "           size      mean\n",
       "movie_id                 \n",
       "1           452  3.878319\n",
       "2           131  3.206107\n",
       "3            90  3.033333"
      ]
     },
     "execution_count": 14,
     "metadata": {},
     "output_type": "execute_result"
    }
   ],
   "source": [
    "movieProperties = ratings.groupby('movie_id').agg({'rating': [np.size, np.mean]})\n",
    "movieProperties.head(3)"
   ]
  },
  {
   "cell_type": "code",
   "execution_count": 18,
   "metadata": {},
   "outputs": [
    {
     "data": {
      "text/html": [
       "<div>\n",
       "<table border=\"1\" class=\"dataframe\">\n",
       "  <thead>\n",
       "    <tr>\n",
       "      <th></th>\n",
       "      <th colspan=\"2\" halign=\"left\">rating</th>\n",
       "      <th>popularity</th>\n",
       "      <th>score</th>\n",
       "    </tr>\n",
       "    <tr>\n",
       "      <th></th>\n",
       "      <th>size</th>\n",
       "      <th>mean</th>\n",
       "      <th></th>\n",
       "      <th></th>\n",
       "    </tr>\n",
       "    <tr>\n",
       "      <th>movie_id</th>\n",
       "      <th></th>\n",
       "      <th></th>\n",
       "      <th></th>\n",
       "      <th></th>\n",
       "    </tr>\n",
       "  </thead>\n",
       "  <tbody>\n",
       "    <tr>\n",
       "      <th>1</th>\n",
       "      <td>452</td>\n",
       "      <td>3.878319</td>\n",
       "      <td>0.672166</td>\n",
       "      <td>0.160456</td>\n",
       "    </tr>\n",
       "    <tr>\n",
       "      <th>2</th>\n",
       "      <td>131</td>\n",
       "      <td>3.206107</td>\n",
       "      <td>0.122509</td>\n",
       "      <td>0.026014</td>\n",
       "    </tr>\n",
       "    <tr>\n",
       "      <th>3</th>\n",
       "      <td>90</td>\n",
       "      <td>3.033333</td>\n",
       "      <td>0.052303</td>\n",
       "      <td>-0.008541</td>\n",
       "    </tr>\n",
       "  </tbody>\n",
       "</table>\n",
       "</div>"
      ],
      "text/plain": [
       "         rating           popularity     score\n",
       "           size      mean                     \n",
       "movie_id                                      \n",
       "1           452  3.878319   0.672166  0.160456\n",
       "2           131  3.206107   0.122509  0.026014\n",
       "3            90  3.033333   0.052303 -0.008541"
      ]
     },
     "execution_count": 18,
     "metadata": {},
     "output_type": "execute_result"
    }
   ],
   "source": [
    "sizes = movieProperties['rating']['size'].values\n",
    "scores = movieProperties['rating']['mean'].values\n",
    "movieProperties[\"popularity\"] = (sizes - sizes.mean())/sizes.max()\n",
    "movieProperties[\"score\"] = (scores - scores.mean())/scores.max() \n",
    "movieProperties.head(3)"
   ]
  },
  {
   "cell_type": "code",
   "execution_count": 24,
   "metadata": {},
   "outputs": [
    {
     "data": {
      "text/plain": [
       "<matplotlib.axes._subplots.AxesSubplot at 0x7fa3341a6910>"
      ]
     },
     "execution_count": 24,
     "metadata": {},
     "output_type": "execute_result"
    }
   ],
   "source": [
    "movieProperties['score'].hist()"
   ]
  },
  {
   "cell_type": "code",
   "execution_count": 25,
   "metadata": {},
   "outputs": [
    {
     "data": {
      "text/plain": [
       "<matplotlib.axes._subplots.AxesSubplot at 0x7fa3341a6910>"
      ]
     },
     "execution_count": 25,
     "metadata": {},
     "output_type": "execute_result"
    }
   ],
   "source": [
    "movieProperties['popularity'].hist()"
   ]
  },
  {
   "cell_type": "code",
   "execution_count": 55,
   "metadata": {},
   "outputs": [
    {
     "name": "stdout",
     "output_type": "stream",
     "text": [
      "(1682, 19)\n",
      "1682\n",
      "                 movie_name  gen0  gen1  gen2  gen3  gen4  gen5  gen6  gen7  \\\n",
      "movie_id                                                                      \n",
      "1          Toy Story (1995)     0     0     0     1     1     1     0     0   \n",
      "2          GoldenEye (1995)     0     1     1     0     0     0     0     0   \n",
      "3         Four Rooms (1995)     0     0     0     0     0     0     0     0   \n",
      "\n",
      "          gen8  gen9  gen10  gen11  gen12  gen13  gen14  gen15  gen16  gen17  \\\n",
      "movie_id                                                                       \n",
      "1            0     0      0      0      0      0      0      0      0      0   \n",
      "2            0     0      0      0      0      0      0      0      1      0   \n",
      "3            0     0      0      0      0      0      0      0      1      0   \n",
      "\n",
      "          gen18  \n",
      "movie_id         \n",
      "1             0  \n",
      "2             0  \n",
      "3             0  \n",
      "CPU times: user 153 ms, sys: 14.3 ms, total: 167 ms\n",
      "Wall time: 158 ms\n"
     ]
    }
   ],
   "source": [
    "%%time\n",
    "movie_id = []\n",
    "movie_gen = []\n",
    "movie_name = []\n",
    "with open('../data/data/u.item', 'r') as f:\n",
    "    for line in f:\n",
    "        contents = line.rstrip('\\n').split('|')\n",
    "        movie_id.append(int(contents[0]))\n",
    "        movie_name.append(contents[1])\n",
    "        movie_gen.append(np.array([int(x) for x in contents[5:25]]))\n",
    "mgen = pd.DataFrame({\n",
    "    'movie_id': movie_id,\n",
    "    'movie_name': movie_name\n",
    "})\n",
    "print np.array(movie_gen).shape\n",
    "for i in range(len(movie_gen[0])):\n",
    "    mgen['gen'+str(i)] = np.array(movie_gen)[:, i]\n",
    "mgen.set_index('movie_id', inplace=True)\n",
    "print(len(mgen))\n",
    "print mgen.head(3)"
   ]
  },
  {
   "cell_type": "code",
   "execution_count": 56,
   "metadata": {},
   "outputs": [
    {
     "name": "stdout",
     "output_type": "stream",
     "text": [
      "Index([u'A', u'B', u'C', u'D', u'name', u'gen0', u'gen1', u'gen2', u'gen3',\n",
      "       u'gen4', u'gen5', u'gen6', u'gen7', u'gen8', u'gen9', u'gen10',\n",
      "       u'gen11', u'gen12', u'gen13', u'gen14', u'gen15', u'gen16', u'gen17',\n",
      "       u'gen18'],\n",
      "      dtype='object')\n"
     ]
    },
    {
     "data": {
      "text/html": [
       "<div>\n",
       "<table border=\"1\" class=\"dataframe\">\n",
       "  <thead>\n",
       "    <tr style=\"text-align: right;\">\n",
       "      <th></th>\n",
       "      <th>A</th>\n",
       "      <th>B</th>\n",
       "      <th>C</th>\n",
       "      <th>D</th>\n",
       "      <th>name</th>\n",
       "      <th>gen0</th>\n",
       "      <th>gen1</th>\n",
       "      <th>gen2</th>\n",
       "      <th>gen3</th>\n",
       "      <th>gen4</th>\n",
       "      <th>...</th>\n",
       "      <th>gen9</th>\n",
       "      <th>gen10</th>\n",
       "      <th>gen11</th>\n",
       "      <th>gen12</th>\n",
       "      <th>gen13</th>\n",
       "      <th>gen14</th>\n",
       "      <th>gen15</th>\n",
       "      <th>gen16</th>\n",
       "      <th>gen17</th>\n",
       "      <th>gen18</th>\n",
       "    </tr>\n",
       "    <tr>\n",
       "      <th>movie_id</th>\n",
       "      <th></th>\n",
       "      <th></th>\n",
       "      <th></th>\n",
       "      <th></th>\n",
       "      <th></th>\n",
       "      <th></th>\n",
       "      <th></th>\n",
       "      <th></th>\n",
       "      <th></th>\n",
       "      <th></th>\n",
       "      <th></th>\n",
       "      <th></th>\n",
       "      <th></th>\n",
       "      <th></th>\n",
       "      <th></th>\n",
       "      <th></th>\n",
       "      <th></th>\n",
       "      <th></th>\n",
       "      <th></th>\n",
       "      <th></th>\n",
       "      <th></th>\n",
       "    </tr>\n",
       "  </thead>\n",
       "  <tbody>\n",
       "    <tr>\n",
       "      <th>1</th>\n",
       "      <td>452</td>\n",
       "      <td>3.878319</td>\n",
       "      <td>0.672166</td>\n",
       "      <td>0.160456</td>\n",
       "      <td>Toy Story (1995)</td>\n",
       "      <td>0</td>\n",
       "      <td>0</td>\n",
       "      <td>0</td>\n",
       "      <td>1</td>\n",
       "      <td>1</td>\n",
       "      <td>...</td>\n",
       "      <td>0</td>\n",
       "      <td>0</td>\n",
       "      <td>0</td>\n",
       "      <td>0</td>\n",
       "      <td>0</td>\n",
       "      <td>0</td>\n",
       "      <td>0</td>\n",
       "      <td>0</td>\n",
       "      <td>0</td>\n",
       "      <td>0</td>\n",
       "    </tr>\n",
       "    <tr>\n",
       "      <th>2</th>\n",
       "      <td>131</td>\n",
       "      <td>3.206107</td>\n",
       "      <td>0.122509</td>\n",
       "      <td>0.026014</td>\n",
       "      <td>GoldenEye (1995)</td>\n",
       "      <td>0</td>\n",
       "      <td>1</td>\n",
       "      <td>1</td>\n",
       "      <td>0</td>\n",
       "      <td>0</td>\n",
       "      <td>...</td>\n",
       "      <td>0</td>\n",
       "      <td>0</td>\n",
       "      <td>0</td>\n",
       "      <td>0</td>\n",
       "      <td>0</td>\n",
       "      <td>0</td>\n",
       "      <td>0</td>\n",
       "      <td>1</td>\n",
       "      <td>0</td>\n",
       "      <td>0</td>\n",
       "    </tr>\n",
       "    <tr>\n",
       "      <th>3</th>\n",
       "      <td>90</td>\n",
       "      <td>3.033333</td>\n",
       "      <td>0.052303</td>\n",
       "      <td>-0.008541</td>\n",
       "      <td>Four Rooms (1995)</td>\n",
       "      <td>0</td>\n",
       "      <td>0</td>\n",
       "      <td>0</td>\n",
       "      <td>0</td>\n",
       "      <td>0</td>\n",
       "      <td>...</td>\n",
       "      <td>0</td>\n",
       "      <td>0</td>\n",
       "      <td>0</td>\n",
       "      <td>0</td>\n",
       "      <td>0</td>\n",
       "      <td>0</td>\n",
       "      <td>0</td>\n",
       "      <td>1</td>\n",
       "      <td>0</td>\n",
       "      <td>0</td>\n",
       "    </tr>\n",
       "  </tbody>\n",
       "</table>\n",
       "<p>3 rows × 24 columns</p>\n",
       "</div>"
      ],
      "text/plain": [
       "            A         B         C         D               name  gen0  gen1  \\\n",
       "movie_id                                                                     \n",
       "1         452  3.878319  0.672166  0.160456   Toy Story (1995)     0     0   \n",
       "2         131  3.206107  0.122509  0.026014   GoldenEye (1995)     0     1   \n",
       "3          90  3.033333  0.052303 -0.008541  Four Rooms (1995)     0     0   \n",
       "\n",
       "          gen2  gen3  gen4  ...    gen9  gen10  gen11  gen12  gen13  gen14  \\\n",
       "movie_id                    ...                                              \n",
       "1            0     1     1  ...       0      0      0      0      0      0   \n",
       "2            1     0     0  ...       0      0      0      0      0      0   \n",
       "3            0     0     0  ...       0      0      0      0      0      0   \n",
       "\n",
       "          gen15  gen16  gen17  gen18  \n",
       "movie_id                              \n",
       "1             0      0      0      0  \n",
       "2             0      1      0      0  \n",
       "3             0      1      0      0  \n",
       "\n",
       "[3 rows x 24 columns]"
      ]
     },
     "execution_count": 56,
     "metadata": {},
     "output_type": "execute_result"
    }
   ],
   "source": [
    "info = movieProperties.join(mgen, how='outer')\n",
    "info.columns = ['A', 'B', 'C', 'D', 'name'] + ['gen'+str(i) for i in range(19)]\n",
    "print info.columns\n",
    "info.head(3)"
   ]
  },
  {
   "cell_type": "code",
   "execution_count": 57,
   "metadata": {
    "collapsed": true
   },
   "outputs": [],
   "source": [
    "metrics = ['name', 'C', 'D'] + ['gen'+str(i) for i in range(19)]\n",
    "movie_info = info[metrics].values"
   ]
  },
  {
   "cell_type": "code",
   "execution_count": 59,
   "metadata": {},
   "outputs": [
    {
     "name": "stdout",
     "output_type": "stream",
     "text": [
      "distance between  Toy Story (1995)  and  Copycat (1995)  is  1.7419109293\n"
     ]
    }
   ],
   "source": [
    "from scipy import spatial\n",
    "\n",
    "def computeDist(a, b):\n",
    "    popu_dis = abs(a[1] - b[1])\n",
    "    rating_dis = abs(a[2] - b[2])\n",
    "    genr_dis = spatial.distance.cosine(a[3:], b[3:])\n",
    "    return popu_dis + rating_dis + genr_dis\n",
    "\n",
    "print \"distance between \", movie_info[0][0], \" and \", movie_info[4][0], \" is \", computeDist(movie_info[0], movie_info[4])"
   ]
  },
  {
   "cell_type": "markdown",
   "metadata": {},
   "source": [
    "##### compute K-nearest neightbors"
   ]
  },
  {
   "cell_type": "code",
   "execution_count": 72,
   "metadata": {
    "collapsed": true
   },
   "outputs": [],
   "source": [
    "import operator\n",
    "\n",
    "def getNeighbors(idx, K, k=10):\n",
    "    dists = []\n",
    "    for j in range(len(K)):\n",
    "        if j == idx:\n",
    "            continue\n",
    "        dist = computeDist(K[idx], K[j])\n",
    "        dists.append((K[j], dist))\n",
    "    dists.sort(key=lambda x: x[1])\n",
    "    return dists[: k]"
   ]
  },
  {
   "cell_type": "code",
   "execution_count": 68,
   "metadata": {},
   "outputs": [
    {
     "name": "stdout",
     "output_type": "stream",
     "text": [
      "The selected movie is:  Toy Story (1995)\n"
     ]
    }
   ],
   "source": [
    "## select movies:\n",
    "idx = 0\n",
    "print \"The selected movie is: \", movie_info[idx][0]"
   ]
  },
  {
   "cell_type": "code",
   "execution_count": 71,
   "metadata": {},
   "outputs": [],
   "source": [
    "neighbors = getNeighbors(idx, movie_info)"
   ]
  },
  {
   "cell_type": "code",
   "execution_count": 73,
   "metadata": {},
   "outputs": [
    {
     "name": "stdout",
     "output_type": "stream",
     "text": [
      "Move name:  Aladdin (1992)  and its distance with the target movies is:  0.546053838144\n",
      "Move name:  Willy Wonka and the Chocolate Factory (1971)  and its distance with the target movies is:  0.598370106707\n",
      "Move name:  Liar Liar (1997)  and its distance with the target movies is:  0.623480090754\n",
      "Move name:  Full Monty, The (1997)  and its distance with the target movies is:  0.666971880489\n",
      "Move name:  Monty Python and the Holy Grail (1974)  and its distance with the target movies is:  0.693153865565\n",
      "Move name:  Lion King, The (1994)  and its distance with the target movies is:  0.749893687756\n",
      "Move name:  Babe (1995)  and its distance with the target movies is:  0.75572897725\n",
      "Move name:  Raising Arizona (1987)  and its distance with the target movies is:  0.758929885981\n",
      "Move name:  Back to the Future (1985)  and its distance with the target movies is:  0.77521581774\n",
      "Move name:  Beauty and the Beast (1991)  and its distance with the target movies is:  0.778663400344\n"
     ]
    }
   ],
   "source": [
    "## Out put the K-neightbor results\n",
    "for mov, dis in neighbors:\n",
    "    print \"Move name: \", mov[0], \" and its distance with the target movies is: \", dis"
   ]
  },
  {
   "cell_type": "code",
   "execution_count": 64,
   "metadata": {
    "collapsed": true
   },
   "outputs": [],
   "source": [
    "A.sort(key=lambda x: -x)"
   ]
  },
  {
   "cell_type": "code",
   "execution_count": 65,
   "metadata": {},
   "outputs": [
    {
     "data": {
      "text/plain": [
       "[3, 2, 1, 1]"
      ]
     },
     "execution_count": 65,
     "metadata": {},
     "output_type": "execute_result"
    }
   ],
   "source": [
    "A"
   ]
  },
  {
   "cell_type": "code",
   "execution_count": null,
   "metadata": {
    "collapsed": true
   },
   "outputs": [],
   "source": []
  }
 ],
 "metadata": {
  "kernelspec": {
   "display_name": "Python 2",
   "language": "python",
   "name": "python2"
  },
  "language_info": {
   "codemirror_mode": {
    "name": "ipython",
    "version": 2
   },
   "file_extension": ".py",
   "mimetype": "text/x-python",
   "name": "python",
   "nbconvert_exporter": "python",
   "pygments_lexer": "ipython2",
   "version": "2.7.13"
  }
 },
 "nbformat": 4,
 "nbformat_minor": 2
}
